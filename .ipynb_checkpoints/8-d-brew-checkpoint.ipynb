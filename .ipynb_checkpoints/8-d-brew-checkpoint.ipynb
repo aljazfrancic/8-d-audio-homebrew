{
 "cells": [
  {
   "cell_type": "code",
   "execution_count": 4,
   "id": "04471bab",
   "metadata": {},
   "outputs": [],
   "source": [
    "from pydub import AudioSegment"
   ]
  },
  {
   "cell_type": "code",
   "execution_count": 6,
   "id": "5cee057f",
   "metadata": {},
   "outputs": [],
   "source": [
    "sound = AudioSegment.from_mp3(\"./lofi_loop.mp3\")\n",
    "\n",
    "# sound._data is a bytestring\n",
    "raw_data = sound._data"
   ]
  },
  {
   "cell_type": "code",
   "execution_count": 7,
   "id": "30ca0319",
   "metadata": {},
   "outputs": [],
   "source": [
    "# get raw audio data as a bytestring\n",
    "raw_data = sound.raw_data\n",
    "# get the frame rate\n",
    "sample_rate = sound.frame_rate\n",
    "# get amount of bytes contained in one sample\n",
    "sample_size = sound.sample_width\n",
    "# get channels\n",
    "channels = sound.channels"
   ]
  },
  {
   "cell_type": "code",
   "execution_count": null,
   "id": "769a327b",
   "metadata": {},
   "outputs": [],
   "source": []
  }
 ],
 "metadata": {
  "kernelspec": {
   "display_name": "Python 3",
   "language": "python",
   "name": "python3"
  },
  "language_info": {
   "codemirror_mode": {
    "name": "ipython",
    "version": 3
   },
   "file_extension": ".py",
   "mimetype": "text/x-python",
   "name": "python",
   "nbconvert_exporter": "python",
   "pygments_lexer": "ipython3",
   "version": "3.7.10"
  }
 },
 "nbformat": 4,
 "nbformat_minor": 5
}
